{
 "cells": [
  {
   "cell_type": "markdown",
   "id": "24a7bc09",
   "metadata": {},
   "source": [
    "# Credit Risk Analysis\n",
    "\n",
    "## Introduction\n",
    "Credit risk analysis is the practice of determining the likelihood that a borrower will default on their financial obligations. It is a crucial aspect of the financial industry as it helps lenders, such as banks and credit institutions, manage and mitigate potential losses due to defaults.\n",
    "\n",
    "## Objective of Credit Risk Analysis\n",
    "The primary goal of credit risk analysis is to understand the risk involved in lending to different borrowers. By assessing the probability of default, financial institutions can make informed decisions about who to lend to, under what terms, and at what rates. This not only optimizes the risk-return profile but also helps in complying with various financial regulations.\n",
    "\n",
    "## Importance\n",
    "Proper credit risk management:\n",
    "- **Minimizes losses** by avoiding lending to high-risk individuals or businesses.\n",
    "- **Improves profitability** by setting appropriate interest rates based on the borrower’s risk profile.\n",
    "- **Enhances customer management** by customizing loan offers and terms.\n",
    "- **Ensures regulatory compliance** by adhering to credit risk thresholds set by financial authorities.\n",
    "\n",
    "## Project Goal\n",
    "In this project, we aim to develop a predictive model using historical data to assess the credit risk of potential borrowers. This model will help in predicting the likelihood of default, thereby assisting lenders in making more precise lending decisions.\n",
    "\n",
    "## Methodology\n",
    "We will use various machine learning techniques to predict credit risk. The process involves:\n",
    "- **Data Preprocessing:** Cleaning data and creating relevant features.\n",
    "- **Model Building:** Using statistical and machine learning models to learn from past data.\n",
    "- **Evaluation:** Assessing the model’s performance using appropriate metrics.\n",
    "- **Optimization:** Fine-tuning the model to enhance its predictive accuracy.\n",
    "\n",
    "By the end of this project, we expect to have a robust tool that can be used to improve decision-making in credit lending.\n"
   ]
  },
  {
   "cell_type": "code",
   "execution_count": 9,
   "id": "4455bfbb",
   "metadata": {},
   "outputs": [],
   "source": [
    "# Import libraries\n",
    "import pandas as pd\n",
    "import numpy as np\n",
    "import matplotlib.pyplot as plt\n",
    "import seaborn as sns\n",
    "from keras.models import Sequential\n",
    "from sklearn.model_selection import train_test_split\n",
    "from sklearn.linear_model import LogisticRegression\n",
    "from sklearn.metrics import accuracy_score, confusion_matrix\n",
    "from sklearn.preprocessing import StandardScaler,LabelEncoder\n",
    "from sklearn.ensemble import RandomForestClassifier\n",
    "from sklearn.tree import DecisionTreeClassifier, export_graphviz\n",
    "from datetime import datetime\n",
    "import statsmodels.api as sm\n",
    "from dateutil import parser\n",
    "import pyarrow\n",
    "import dask.dataframe as dd\n",
    "import tensorflow as tf\n",
    "from imblearn.over_sampling import SMOTE\n",
    "from scipy import stats\n",
    "import graphviz\n",
    "import dtreeviz.trees\n",
    "import researchpy as rp\n",
    "import pingouin as pg\n",
    "from yellowbrick.classifier import ClassificationReport\n",
    "import warnings\n",
    "warnings.filterwarnings('ignore')\n",
    "\n",
    "# Additional settings for better handling and visualization\n",
    "sns.set(style=\"whitegrid\")  # Set seaborn style for plots"
   ]
  },
  {
   "cell_type": "markdown",
   "id": "bdbcf1a3",
   "metadata": {},
   "source": [
    "# Load Data"
   ]
  },
  {
   "cell_type": "code",
   "execution_count": 11,
   "id": "65b11c81",
   "metadata": {},
   "outputs": [],
   "source": [
    "data = pd.read_csv(r\"loan.csv\")"
   ]
  },
  {
   "cell_type": "markdown",
   "id": "6037d43c",
   "metadata": {},
   "source": [
    "# Preliminary Data Analysis\n",
    "\n",
    "## Viewing Data\n",
    "We begin by loading our dataset and using the `head()` method from the pandas library to view the first few rows. This helps us get an initial understanding of the structure and fields in our data.\n",
    "\n",
    "## Missing Values Detection\n",
    "To ensure the integrity of our analysis, it's crucial to check for missing values in the dataset. We use the `isna()` method followed by `any()` to check if there are any missing values across the entire dataset.\n",
    "\n",
    "## Cleaning Data\n",
    "In credit risk analysis, having complete data is important for making accurate predictions. Therefore, we identify columns that have more than 90% missing values, which may not be useful for our analysis due to the lack of data. Such columns are earmarked for deletion. This step involves:\n",
    "1. Initializing an empty list to store the names of columns with predominantly missing data.\n",
    "2. Iterating through each column to calculate the percentage of missing values.\n",
    "3. Appending the column names that meet the deletion threshold to our list.\n",
    "\n",
    "This process helps in refining the dataset for more effective analysis.\n"
   ]
  },
  {
   "cell_type": "code",
   "execution_count": 12,
   "id": "22dfa42c",
   "metadata": {},
   "outputs": [
    {
     "name": "stdout",
     "output_type": "stream",
     "text": [
      "        id  member_id  loan_amnt  funded_amnt  funded_amnt_inv        term  \\\n",
      "0  1077501    1296599     5000.0       5000.0           4975.0   36 months   \n",
      "1  1077430    1314167     2500.0       2500.0           2500.0   60 months   \n",
      "2  1077175    1313524     2400.0       2400.0           2400.0   36 months   \n",
      "3  1076863    1277178    10000.0      10000.0          10000.0   36 months   \n",
      "4  1075358    1311748     3000.0       3000.0           3000.0   60 months   \n",
      "\n",
      "   int_rate  installment grade sub_grade  ... total_bal_il il_util  \\\n",
      "0     10.65       162.87     B        B2  ...          NaN     NaN   \n",
      "1     15.27        59.83     C        C4  ...          NaN     NaN   \n",
      "2     15.96        84.33     C        C5  ...          NaN     NaN   \n",
      "3     13.49       339.31     C        C1  ...          NaN     NaN   \n",
      "4     12.69        67.79     B        B5  ...          NaN     NaN   \n",
      "\n",
      "  open_rv_12m  open_rv_24m max_bal_bc all_util total_rev_hi_lim inq_fi  \\\n",
      "0         NaN          NaN        NaN      NaN              NaN    NaN   \n",
      "1         NaN          NaN        NaN      NaN              NaN    NaN   \n",
      "2         NaN          NaN        NaN      NaN              NaN    NaN   \n",
      "3         NaN          NaN        NaN      NaN              NaN    NaN   \n",
      "4         NaN          NaN        NaN      NaN              NaN    NaN   \n",
      "\n",
      "  total_cu_tl inq_last_12m  \n",
      "0         NaN          NaN  \n",
      "1         NaN          NaN  \n",
      "2         NaN          NaN  \n",
      "3         NaN          NaN  \n",
      "4         NaN          NaN  \n",
      "\n",
      "[5 rows x 74 columns]\n",
      "True\n",
      "Columns to be deleted: ['annual_inc_joint', 'dti_joint', 'verification_status_joint', 'open_acc_6m', 'open_il_6m', 'open_il_12m', 'open_il_24m', 'mths_since_rcnt_il', 'total_bal_il', 'il_util', 'open_rv_12m', 'open_rv_24m', 'max_bal_bc', 'all_util', 'inq_fi', 'total_cu_tl', 'inq_last_12m']\n"
     ]
    }
   ],
   "source": [
    "# Display the first few rows of the DataFrame\n",
    "print(data.head())\n",
    "\n",
    "# Check if there are any NA values in the entire DataFrame\n",
    "print(data.isna().any().any())\n",
    "\n",
    "# Initialize an empty list to store column names to be deleted\n",
    "del_columns = []\n",
    "\n",
    "# Loop through each column in the DataFrame\n",
    "for col in data.columns:\n",
    "    # Check if the percentage of missing values in the column is greater than 90%\n",
    "    if (data[col].isna().sum() / len(data)) * 100 > 90:\n",
    "        # If condition is met, add the column name to the list\n",
    "        del_columns.append(col)\n",
    "\n",
    "# Output columns to be deleted\n",
    "print(\"Columns to be deleted:\", del_columns)"
   ]
  },
  {
   "cell_type": "markdown",
   "id": "3efea32f",
   "metadata": {},
   "source": [
    "# Data Cleaning\n",
    "\n",
    "## Removing High-NA Columns\n",
    "Once we identify columns that have more than 90% missing values, the next step is to remove these columns from the dataset. High levels of missing data can significantly impact the performance of predictive models and can skew the analysis. We use the `drop` method from pandas, specifying the list of columns (`del_columns`) and setting `inplace=True` to modify the DataFrame directly.\n",
    "\n",
    "## Removing Identifier Columns\n",
    "Certain columns like `id` and `member_id` are typically used to uniquely identify rows and are not useful for analysis or modeling purposes. These identifier columns can be a source of data leakage if included in predictive modeling. Similar to the previous step, we remove these columns using the `drop` method, ensuring the DataFrame only contains relevant features for analysis.\n",
    "\n",
    "This approach streamlines the DataFrame, preparing it for subsequent preprocessing steps and analysis, enhancing the clarity and focus of the dataset.\n"
   ]
  },
  {
   "cell_type": "code",
   "execution_count": 13,
   "id": "bf03f809",
   "metadata": {},
   "outputs": [],
   "source": [
    "# List of column names to be deleted because of high NA percentage\n",
    "del_columns = [col for col in data.columns if (data[col].isna().sum() / len(data)) * 100 > 90]\n",
    "\n",
    "# Remove columns from the dataframe with high NA percentage\n",
    "data.drop(columns=del_columns, inplace=True)\n",
    "\n",
    "# Define columns to be dropped that are IDs\n",
    "id_columns = [\"id\", \"member_id\"]\n",
    "\n",
    "# Remove ID columns from the dataframe\n",
    "data.drop(columns=id_columns, inplace=True)"
   ]
  },
  {
   "cell_type": "markdown",
   "id": "06f1e850",
   "metadata": {},
   "source": [
    "# Data Exploration\n",
    "\n",
    "## Summary Statistics for Specific Features\n",
    "To better understand the distribution and characteristics of certain features within our dataset, we focus on specific columns: `addr_state` and `zip_code`. These features are crucial as they provide geographical insights that might affect credit risk. \n",
    "\n",
    "Using the `describe` method from pandas, we obtain summary statistics for these columns. This method provides a comprehensive overview, including count, unique values, top occurrences, and frequency for non-numeric data. This initial analysis helps in identifying patterns or anomalies in specific geographic dimensions of the data, which are important for later stages of our credit risk evaluation.\n"
   ]
  },
  {
   "cell_type": "code",
   "execution_count": 14,
   "id": "2b7f24b9",
   "metadata": {
    "scrolled": true
   },
   "outputs": [
    {
     "name": "stdout",
     "output_type": "stream",
     "text": [
      "       addr_state zip_code\n",
      "count      887379   887379\n",
      "unique         51      935\n",
      "top            CA    945xx\n",
      "freq       129517     9770\n"
     ]
    }
   ],
   "source": [
    "# Define feature array with specific column names\n",
    "feat_arr = [\"addr_state\", \"zip_code\"]\n",
    "\n",
    "# Display summary statistics for selected columns\n",
    "print(data[feat_arr].describe(include='all'))"
   ]
  },
  {
   "cell_type": "markdown",
   "id": "2ebce736",
   "metadata": {},
   "source": [
    "# Data Quality Assessment\n",
    "\n",
    "## Missing Values Analysis\n",
    "Understanding the extent of missing data within key features is critical for ensuring the quality of our analysis. For the columns `addr_state` and `zip_code`, which are vital for regional analysis in credit risk, we compute the percentage of missing values. This step is essential as it helps in deciding whether imputation\n"
   ]
  },
  {
   "cell_type": "code",
   "execution_count": 15,
   "id": "72212e03",
   "metadata": {},
   "outputs": [
    {
     "name": "stdout",
     "output_type": "stream",
     "text": [
      "Missing % for addr_state: 0.00%\n",
      "Missing % for zip_code: 0.00%\n"
     ]
    }
   ],
   "source": [
    "# Define feature array with specific column names\n",
    "feat_arr = [\"addr_state\", \"zip_code\"]\n",
    "\n",
    "# Calculate and print the percentage of missing values for each column in feat_arr\n",
    "for col in feat_arr:\n",
    "    missing_percentage = data[col].isna().sum() / len(data) * 100\n",
    "    print(f\"Missing % for {col}: {missing_percentage:.2f}%\")"
   ]
  },
  {
   "cell_type": "markdown",
   "id": "6e4dbca2",
   "metadata": {},
   "source": [
    "# Feature Engineering and Data Cleaning\n",
    "\n",
    "## Creating a New Feature from ZIP Code\n",
    "To simplify geographic analysis and reduce the granularity of the data, we extract the first two digits from the `zip_code` column. These two digits generally represent a broader geographic area, which is sufficient for initial risk assessment without sacrificing crucial regional insights. This transformation is performed by slicing the first two characters of the zip code string and converting them to an integer to create a new column, `2_digit_zip`.\n",
    "\n",
    "## Streamlining the Dataset\n",
    "After extracting the needed information and creating more generalized geographic features, we remove the original `addr_state` and `zip_code` columns from the dataset. This step is taken to focus on the newly derived features and to eliminate redundancy in the dataset. Dropping these columns simplifies the model inputs without compromising the quality of the data and helps in maintaining the clarity and efficiency of the dataset.\n"
   ]
  },
  {
   "cell_type": "code",
   "execution_count": 16,
   "id": "f38c8c47",
   "metadata": {},
   "outputs": [],
   "source": [
    "# Apply function to extract the first two digits from zip_code and create a new column\n",
    "data['2_digit_zip'] = data['zip_code'].str[:2].astype(int)\n",
    "\n",
    "# Drop columns addr_state and zip_code from the dataframe\n",
    "data.drop(columns=['addr_state', 'zip_code'], inplace=True)"
   ]
  },
  {
   "cell_type": "markdown",
   "id": "5fd21bd4",
   "metadata": {},
   "source": [
    "# Feature Classification\n",
    "\n",
    "## Numerical and Categorical Features\n",
    "In the preprocessing phase, it's crucial to differentiate between numerical and categorical features. This classification aids in the appropriate handling of each type during data cleaning, feature engineering, and modeling.\n",
    "\n",
    "- **Numerical Features**: We identify `annual_inc` as a numerical feature. Numerical features will be processed to ensure they are scaled properly and do not contain outliers that could skew the analysis.\n",
    "- **Categorical Features**: Features such as `verification_status`, `emp_length`, and `emp_title` are categorized as categorical. These features require specific preprocessing steps such as encoding to transform them into a format that can be efficiently used by machine learning algorithms.\n",
    "\n",
    "By explicitly defining these categories, we can streamline subsequent data processing steps and apply suitable techniques for each type of data.\n"
   ]
  },
  {
   "cell_type": "code",
   "execution_count": 17,
   "id": "e789f94b",
   "metadata": {},
   "outputs": [],
   "source": [
    "# Define lists for numeric and categorical feature arrays\n",
    "feat_arr_num = [\"annual_inc\"]\n",
    "feat_arr_cat = [\"verification_status\", \"emp_length\", \"emp_title\"]"
   ]
  },
  {
   "cell_type": "markdown",
   "id": "0d17fbf8",
   "metadata": {},
   "source": [
    "# Analyzing Numerical Data\n",
    "\n",
    "## Summary Statistics for Numeric Features\n",
    "To gain insights into the distribution and scale of numeric features within our dataset, we examine `annual_inc`, which represents the annual income of borrowers. Understanding the distribution of income is crucial for assessing credit risk as it directly influences a borrower's ability to repay a loan.\n",
    "\n",
    "The `describe()` function in pandas is used here to provide summary statistics that include:\n",
    "- **Count:** Total number of non-null entries.\n",
    "- **Mean:** The average value.\n",
    "- **Std (Standard Deviation):** A measure of the amount of variation or dispersion of a set of values.\n",
    "- **Min:** The smallest value.\n",
    "- **25% (First Quartile), 50% (Median), 75% (Third Quartile):** These percentiles indicate the distribution of the data, helping us understand the spread and skewness of income values.\n",
    "- **Max:** The largest value.\n",
    "\n",
    "These statistics are essential for preliminary data analysis, helping to identify outliers, understand central tendency, and evaluate data spread, all of which inform further data cleaning and feature engineering efforts.\n"
   ]
  },
  {
   "cell_type": "code",
   "execution_count": 18,
   "id": "d40fd883",
   "metadata": {},
   "outputs": [
    {
     "name": "stdout",
     "output_type": "stream",
     "text": [
      "         annual_inc\n",
      "count  8.873750e+05\n",
      "mean   7.502759e+04\n",
      "std    6.469830e+04\n",
      "min    0.000000e+00\n",
      "25%    4.500000e+04\n",
      "50%    6.500000e+04\n",
      "75%    9.000000e+04\n",
      "max    9.500000e+06\n"
     ]
    }
   ],
   "source": [
    "# Define list for numeric features\n",
    "feat_arr_num = [\"annual_inc\"]\n",
    "\n",
    "# Display summary statistics for numeric features\n",
    "print(data[feat_arr_num].describe())"
   ]
  },
  {
   "cell_type": "markdown",
   "id": "87d9541e",
   "metadata": {},
   "source": [
    "# Analyzing Categorical Data\n",
    "\n",
    "## Summary Statistics for Categorical Features\n",
    "For a comprehensive understanding of categorical data within our dataset, we focus on the features `verification_status`, `emp_length`, and `emp_title`. These attributes are particularly important as they provide insights into the employment and verification status of borrowers, which are key factors in assessing creditworthiness.\n",
    "\n",
    "The `describe()` function is used with the `include='all'` parameter to generate summary statistics for these categorical fields. The summary includes:\n",
    "- **Count:** Total number of non-null entries.\n",
    "- **Unique:** Number of unique categories.\n",
    "- **Top:** The most common category.\n",
    "- **Freq:** Frequency of the most common category.\n",
    "\n",
    "These statistics help in identifying dominant categories and the diversity of categorical data, which can influence the modeling strategies and risk assessment. Understanding the distribution and frequency of categorical features is essential for tasks such as feature encoding and handling imbalanced data.\n"
   ]
  },
  {
   "cell_type": "code",
   "execution_count": 19,
   "id": "1b4f0ce9",
   "metadata": {},
   "outputs": [
    {
     "name": "stdout",
     "output_type": "stream",
     "text": [
      "       verification_status emp_length emp_title\n",
      "count               887379     842554    835917\n",
      "unique                   3         11    299271\n",
      "top        Source Verified  10+ years   Teacher\n",
      "freq                329558     291569     13469\n"
     ]
    }
   ],
   "source": [
    "# Define list for categorical features\n",
    "feat_arr_cat = [\"verification_status\", \"emp_length\", \"emp_title\"]\n",
    "\n",
    "# Display summary statistics for categorical features\n",
    "print(data[feat_arr_cat].describe(include='all'))"
   ]
  },
  {
   "cell_type": "markdown",
   "id": "37362b38",
   "metadata": {},
   "source": [
    "# Data Quality Check\n",
    "\n",
    "## Missing Values Calculation\n",
    "Ensuring data completeness is crucial for reliable analyses and modeling. We compute the percentage of missing values for each feature in our numeric (`annual_inc`) and categorical (`verification_status`, `emp_length`, `emp_title`) feature arrays. This calculation helps identify columns with significant missing data, which might require cleaning or imputation.\n",
    "\n",
    "The process involves:\n",
    "- Combining numeric and categorical feature lists.\n",
    "- Iterating through each feature.\n",
    "- Calculating the percentage of missing data using `isna().sum()` to count NA values, divided by the total number of rows, multiplied by 100 to get the percentage.\n",
    "- Printing the result, which aids in subsequent data preprocessing decisions, such as whether to apply imputation strategies or exclude certain features from analysis.\n",
    "\n",
    "This step is essential for maintaining the integrity of the dataset, guiding the handling of incomplete data, and ensuring robust, data-driven decision-making in credit risk assessment.\n"
   ]
  },
  {
   "cell_type": "code",
   "execution_count": 20,
   "id": "1ffada1d",
   "metadata": {},
   "outputs": [
    {
     "name": "stdout",
     "output_type": "stream",
     "text": [
      "Missing % for annual_inc: 0.00%\n",
      "Missing % for verification_status: 0.00%\n",
      "Missing % for emp_length: 5.05%\n",
      "Missing % for emp_title: 5.80%\n"
     ]
    }
   ],
   "source": [
    "# Combine feature lists for processing\n",
    "all_features = feat_arr_num + feat_arr_cat\n",
    "\n",
    "# Calculate and print the percentage of missing values for each column in combined feature lists\n",
    "for col in all_features:\n",
    "    missing_percentage = data[col].isna().sum() / len(data) * 100\n",
    "    print(f\"Missing % for {col}: {missing_percentage:.2f}%\")"
   ]
  },
  {
   "cell_type": "markdown",
   "id": "ba1d80ff",
   "metadata": {},
   "source": [
    "# Data Cleaning Function for Employment Length\n",
    "\n",
    "## Function Definition: `clean_emp_length`\n",
    "The employment length (`emp_length`) feature in our dataset contains string representations of the number of years a person has been employed, which can be less intuitive for analysis and modeling. To facilitate easier analysis, we define the `clean_emp_length` function to transform these strings into numerical data.\n",
    "\n",
    "### Steps in the Function:\n",
    "1. **Handle Missing Values:** If the data point is missing (`NaN`), the function returns `NaN` to maintain data integrity.\n",
    "2. **Normalize Strings:** Convert strings to lower case and strip any leading/trailing whitespace.\n",
    "3. **Specific Cases:** Convert special string values like \"< 1 year\" to `0` and \"10+ years\" to `11`.\n",
    "4. **General Case:** For other strings, remove the word 'years' and convert the result to an integer.\n",
    "\n",
    "This function is applied to each entry in the `emp_length` column of our DataFrame using the `apply` method, creating a new column `emp_length_cleaned` that holds the cleaned numeric values. This transformation simplifies further data analysis and modeling by converting the data into a more manageable format.\n",
    "\n",
    "\n",
    "### Column Removal\n",
    "We start by removing the `emp_title` column from our dataset. This column may not be necessary for our analysis or may contain too many unique values, making it less useful for predictive modeling.\n",
    "\n",
    "### Cleaning Employment Length Data\n",
    "The `emp_length` column is crucial as it represents the employment duration, which is a significant factor in credit risk assessment. We apply the `clean_emp_length` function to standardize and convert the data into numerical format, making it more amenable for analysis.\n",
    "\n",
    "### Imputing Missing Data\n",
    "After cleaning, there may still be missing values in the `emp_length` column. Missing data can lead to biases in the model if not handled correctly. We impute these missing values with the mean of the `emp_length` column to maintain the distribution and provide a neutral, informed estimate where data is absent.\n",
    "\n",
    "This systematic approach ensures our dataset is clean and prepared for subsequent analysis, helping to reduce errors in the credit risk model and improve the reliability of our predictions."
   ]
  },
  {
   "cell_type": "code",
   "execution_count": 21,
   "id": "b6e3f96b",
   "metadata": {},
   "outputs": [
    {
     "name": "stdout",
     "output_type": "stream",
     "text": [
      "  emp_length  emp_length_cleaned\n",
      "0  10+ years                  11\n",
      "1   < 1 year                   0\n",
      "2  10+ years                  11\n",
      "3  10+ years                  11\n",
      "4     1 year                   1\n",
      "emp_length_cleaned    0\n",
      "dtype: int64\n"
     ]
    }
   ],
   "source": [
    "# Define a function to clean emp_length\n",
    "def clean_emp_length(x):\n",
    "    if pd.isna(x):\n",
    "        return int(0)  # Use np.nan for missing values in pandas\n",
    "    x = x.strip().lower()  # Equivalent to trimws(x) and tolower(x) in R\n",
    "    if x == \"< 1 year\":\n",
    "        return int(0)\n",
    "    elif x == \"1 year\":\n",
    "        return int(1)\n",
    "    elif x == \"10+ years\":\n",
    "        return int(11)\n",
    "    else:\n",
    "        # Remove 'years' and convert to integer\n",
    "        return int(x.replace('years', '').strip())\n",
    "\n",
    "data['emp_length_cleaned'] = data['emp_length'].apply(clean_emp_length)\n",
    "# Show results\n",
    "print(data[['emp_length', 'emp_length_cleaned']].head())\n",
    "# Remove the 'emp_title' column\n",
    "data.drop(columns=['emp_length','emp_title'], inplace=True)\n",
    "print(data[['emp_length_cleaned']].isna().sum())"
   ]
  },
  {
   "cell_type": "markdown",
   "id": "e79abb9e",
   "metadata": {},
   "source": [
    "# Advanced Data Preprocessing\n",
    "\n",
    "## Handling Missing Values in Numerical Data\n",
    "To ensure that our numerical data is complete and robust, we fill any missing values in the `annual_inc` column, which represents the annual income of the borrowers. Missing values in this column are imputed with the mean of the existing values, ensuring that the overall distribution of income is not skewed by the absence of some data.\n",
    "\n",
    "## Converting Categorical Data to Numeric Format\n",
    "The `verification_status` column, which indicates whether the source of a borrower's income was verified, is converted from a categorical type to an integer code. This conversion facilitates the use of this feature in machine learning models, which typically require numeric input.\n",
    "\n",
    "## Analyzing Additional Categorical Features\n",
    "We define a new array of categorical features including `purpose`, `initial_list_status`, and `issue_d` (issue date of the loan). Summary statistics for these categories are generated to understand their distribution, common values, and frequency. This analysis is crucial for determining the relevance of these features in predicting credit risk and for planning subsequent encoding and feature engineering tasks.\n"
   ]
  },
  {
   "cell_type": "code",
   "execution_count": 22,
   "id": "115e26a7",
   "metadata": {},
   "outputs": [
    {
     "name": "stdout",
     "output_type": "stream",
     "text": [
      "                   purpose initial_list_status   issue_d\n",
      "count               887379              887379    887379\n",
      "unique                  14                   2       103\n",
      "top     debt_consolidation                   f  Oct-2015\n",
      "freq                524215              456848     48631\n"
     ]
    }
   ],
   "source": [
    "# Fill missing values in the 'annual_inc' column with the mean of the column\n",
    "data['annual_inc'].fillna(data['annual_inc'].mean(), inplace=True)\n",
    "\n",
    "# Convert 'verification_status' to integer codes\n",
    "data['verification_status'] = data['verification_status'].astype('category').cat.codes\n",
    "\n",
    "# Define a new list of categorical features\n",
    "feat_arr_cat = [\"purpose\", \"initial_list_status\", \"issue_d\"]\n",
    "\n",
    "# Display summary statistics for these new categorical features\n",
    "print(data[feat_arr_cat].describe(include='all'))"
   ]
  },
  {
   "cell_type": "markdown",
   "id": "4ef86a6f",
   "metadata": {},
   "source": [
    "# Missing Data Analysis for Categorical Features\n",
    "\n",
    "In order to ensure the quality and completeness of our dataset, especially for key categorical features that might be used in predictive modeling, it is important to quantify the extent of missing data. The features included in this analysis are `purpose`, `initial_list_status`, and `issue_d`.\n",
    "\n",
    "## Process:\n",
    "- **Loop through each categorical feature**: For each feature specified in the `feat_arr_cat` list, calculate the percentage of missing values.\n",
    "- **Calculate Missing Values**: This is done by dividing the number of missing entries (NA values) by the total number of entries in the dataset and then multiplying by 100 to convert this ratio into a percentage.\n",
    "- **Output the Results**: Display the percentage of missing data for each categorical feature, providing a clear picture of the dataset's integrity.\n",
    "\n",
    "Understanding the proportion of missing data helps in deciding whether further cleaning might be required or if certain features should be excluded from the analysis due to high levels of incompleteness.\n"
   ]
  },
  {
   "cell_type": "code",
   "execution_count": 23,
   "id": "d6aa938a",
   "metadata": {},
   "outputs": [
    {
     "name": "stdout",
     "output_type": "stream",
     "text": [
      "Missing % for purpose: 0.00%\n",
      "Missing % for initial_list_status: 0.00%\n",
      "Missing % for issue_d: 0.00%\n"
     ]
    }
   ],
   "source": [
    "# Calculate and print the percentage of missing values for each column in feat_arr_cat\n",
    "for col in feat_arr_cat:\n",
    "    missing_percentage = data[col].isna().sum() / len(data) * 100\n",
    "    print(f\"Missing % for {col}: {missing_percentage:.2f}%\")"
   ]
  },
  {
   "cell_type": "markdown",
   "id": "b0629c5f",
   "metadata": {},
   "source": [
    "# Encoding Categorical Features\n",
    "\n",
    "We use `LabelEncoder` to transform the `purpose` and `initial_list_status` columns from categorical strings to integers, making them usable for machine learning models that require numerical input. Each unique string value in the columns is assigned a unique integer. This conversion is performed using the `LabelEncoder` from `sklearn.preprocessing`, which is fit and transformed on each specified column.\n"
   ]
  },
  {
   "cell_type": "code",
   "execution_count": 24,
   "id": "0d38ee7c",
   "metadata": {},
   "outputs": [],
   "source": [
    "# Initialize LabelEncoder\n",
    "le = LabelEncoder()\n",
    "\n",
    "# Encode 'purpose' column using LabelEncoder\n",
    "data['purpose'] = le.fit_transform(data['purpose'])\n",
    "\n",
    "# You may want to fit a new LabelEncoder for each unique categorical variable to avoid confusion\n",
    "le = LabelEncoder()  # Re-initialize to avoid using the same encoder on different data\n",
    "data['initial_list_status'] = le.fit_transform(data['initial_list_status'])"
   ]
  },
  {
   "cell_type": "markdown",
   "id": "ed308b27",
   "metadata": {},
   "source": [
    "# Compute Time Since a Given Date\n",
    "\n",
    "We define a Python function `compute_time_since` to calculate the number of years from a given date to the current date. This function is particularly useful for the 'issue_d' column, which contains the date of loan issuance. By converting this date to a floating-point number representing the years since the loan was issued, we can use this data as a numerical feature in analyses or machine learning models.\n",
    "\n",
    "The function handles missing values by returning `None`, parses the date assuming it starts on the first of the given month, and calculates the difference in years using the current date.\n"
   ]
  },
  {
   "cell_type": "code",
   "execution_count": 25,
   "id": "fd6a76fd",
   "metadata": {},
   "outputs": [],
   "source": [
    "# Define a function to compute time since a given date\n",
    "def compute_time_since(x):\n",
    "    if pd.isna(x):\n",
    "        return None\n",
    "    # Format 'x' as the first day of the month with the given month and year\n",
    "    given_date = datetime.strptime(\"01-\" + x, \"%d-%b-%Y\")\n",
    "    current_date = datetime.now()\n",
    "    # Calculate difference in days and convert to years\n",
    "    return (current_date - given_date).days / 365.25\n",
    "\n",
    "# Apply the function to the 'issue_d' column\n",
    "data['issue_d'] = data['issue_d'].apply(compute_time_since)"
   ]
  },
  {
   "cell_type": "code",
   "execution_count": 26,
   "id": "46cf07c9",
   "metadata": {},
   "outputs": [],
   "source": [
    "# Drop specified columns from the DataFrame\n",
    "data.drop(columns=['desc', 'title', 'url', 'policy_code', 'application_type'], inplace=True)"
   ]
  },
  {
   "cell_type": "markdown",
   "id": "ed41bf4c",
   "metadata": {},
   "source": [
    "# Numeric Feature Array Definition\n",
    "\n",
    "We define a list of numeric features that are crucial for our analysis and modeling. These features include loan amounts, interest rates, installments, funded amounts, payments, and fees associated with the loans. This list helps in focusing our data processing and analysis on these specific numeric variables.\n"
   ]
  },
  {
   "cell_type": "code",
   "execution_count": 27,
   "id": "23af75a2",
   "metadata": {},
   "outputs": [],
   "source": [
    "# Define a list for numeric features\n",
    "feat_arr_num = [\n",
    "    \"loan_amnt\", \"int_rate\", \"installment\", \"funded_amnt\", \"funded_amnt_inv\",\n",
    "    \"total_pymnt\", \"total_pymnt_inv\", \"last_pymnt_amnt\", \"total_rec_late_fee\"\n",
    "]"
   ]
  },
  {
   "cell_type": "code",
   "execution_count": 28,
   "id": "5423a879",
   "metadata": {},
   "outputs": [
    {
     "name": "stdout",
     "output_type": "stream",
     "text": [
      "           loan_amnt       int_rate    installment    funded_amnt  \\\n",
      "count  887379.000000  887379.000000  887379.000000  887379.000000   \n",
      "mean    14755.264605      13.246740     436.717127   14741.877625   \n",
      "std      8435.455601       4.381867     244.186593    8429.897657   \n",
      "min       500.000000       5.320000      15.670000     500.000000   \n",
      "25%      8000.000000       9.990000     260.705000    8000.000000   \n",
      "50%     13000.000000      12.990000     382.550000   13000.000000   \n",
      "75%     20000.000000      16.200000     572.600000   20000.000000   \n",
      "max     35000.000000      28.990000    1445.460000   35000.000000   \n",
      "\n",
      "       funded_amnt_inv    total_pymnt  total_pymnt_inv  last_pymnt_amnt  \\\n",
      "count    887379.000000  887379.000000    887379.000000    887379.000000   \n",
      "mean      14702.464383    7558.826684      7521.160306      2164.145585   \n",
      "std        8442.106732    7871.243336      7846.108604      4794.783233   \n",
      "min           0.000000       0.000000         0.000000         0.000000   \n",
      "25%        8000.000000    1914.590000      1899.700000       280.170000   \n",
      "50%       13000.000000    4894.999117      4862.010000       462.780000   \n",
      "75%       20000.000000   10616.814231     10565.690000       831.245000   \n",
      "max       35000.000000   57777.579870     57777.580000     36475.590000   \n",
      "\n",
      "       total_rec_late_fee  \n",
      "count       887379.000000  \n",
      "mean             0.396692  \n",
      "std              4.087825  \n",
      "min              0.000000  \n",
      "25%              0.000000  \n",
      "50%              0.000000  \n",
      "75%              0.000000  \n",
      "max            358.680000  \n"
     ]
    }
   ],
   "source": [
    "# Display summary statistics for numeric features\n",
    "print(data[feat_arr_num].describe())"
   ]
  },
  {
   "cell_type": "markdown",
   "id": "25096930",
   "metadata": {},
   "source": [
    "# Statistical Summary Insights for Loan Features\n",
    "\n",
    "This summary provides a detailed statistical overview of key financial indicators related to loans:\n",
    "\n",
    "- **Loan Amounts**:\n",
    "  - The average loan amount is approximately $14,755, with a standard deviation of $8,435, indicating a wide variety of loan amounts ranging from as low as $500 to as high as $35,000. This suggests that the loan products cater to a broad range of financial needs, from small to large loans.\n",
    "\n",
    "- **Interest Rates**:\n",
    "  - Interest rates have an average of 13.25% and also show a considerable spread (std: 4.38%), ranging from 5.32% to nearly 29%. The variability in interest rates could reflect differing credit risk assessments and loan terms.\n",
    "\n",
    "- **Installments**:\n",
    "  - The mean monthly installment is $436.72, which varies significantly among borrowers (std: $244.19), correlating with the amount borrowed and the term length.\n",
    "\n",
    "- **Funded Amounts**:\n",
    "  - The amounts funded by the platform closely align with the requested loan amounts, with the mean funded amount nearly matching the mean loan amount. This indicates a high likelihood of full funding for requested amounts.\n",
    "\n",
    "- **Investor Funding**:\n",
    "  - The amounts funded by investors (funded_amnt_inv) have a similar distribution to the direct funding amounts, suggesting strong investor participation and confidence.\n",
    "\n",
    "- **Total Payment**:\n",
    "  - The total payment made by borrowers, on average, is $7,558.83, with payments ranging significantly up to $57,777.58, which includes both principal and interest components.\n",
    "\n",
    "- **Total Payment Received by Investors**:\n",
    "  - This closely tracks the total payment, indicating that most of what is paid by borrowers goes to investors, reflecting efficient platform operations.\n",
    "\n",
    "- **Last Payment Amount**:\n",
    "  - The last payment amount shows significant variability (mean: $2,164.15, max: $36,475.59), indicating varied end-of-term payment behaviors among borrowers.\n",
    "\n",
    "- **Total Late Fees Received**:\n",
    "  - While the average late fee is relatively low at $0.40, the presence of higher outliers (max: $358.68) suggests that some loans do incur significant penalties, likely reflecting varied borrower delinquency rates.\n",
    "\n",
    "This data is essential for understanding the financial dynamics of the loans, assessing borrower reliability, and evaluating the investment risk and return for lenders.\n"
   ]
  },
  {
   "cell_type": "markdown",
   "id": "796c2caa",
   "metadata": {},
   "source": [
    "# Summary Statistics for Categorical Features\n",
    "\n",
    "We analyze two key categorical features in our dataset: `term` and `last_pymnt_d`. These features are crucial for understanding the loan terms and the timing of last payments made by borrowers.\n",
    "\n",
    "## Process:\n",
    "- **Loop Through Each Feature**: For each categorical feature specified in the `feat_arr_cat` list, we display its frequency distribution.\n",
    "- **Display Frequency Distributions**: The `value_counts()` method from `pandas` is used to count and display the number of occurrences of each unique value in the columns. This helps in understanding the commonality and rarity of different categories within these features.\n"
   ]
  },
  {
   "cell_type": "code",
   "execution_count": 29,
   "id": "1aee5ceb",
   "metadata": {},
   "outputs": [
    {
     "name": "stdout",
     "output_type": "stream",
     "text": [
      "Summary for term:\n",
      " 36 months    621125\n",
      " 60 months    266254\n",
      "Name: term, dtype: int64\n",
      "\n",
      "\n",
      "Summary for last_pymnt_d:\n",
      "Jan-2016    470150\n",
      "Dec-2015    150861\n",
      "Oct-2015     16000\n",
      "Jul-2015     14483\n",
      "Nov-2015     13981\n",
      "             ...  \n",
      "Jun-2008        20\n",
      "Mar-2008        18\n",
      "Jan-2008        11\n",
      "Feb-2008         8\n",
      "Dec-2007         2\n",
      "Name: last_pymnt_d, Length: 98, dtype: int64\n",
      "\n",
      "\n"
     ]
    }
   ],
   "source": [
    "# Define a list for categorical features\n",
    "feat_arr_cat = [\"term\", \"last_pymnt_d\"]\n",
    "\n",
    "# Display summary statistics for categorical features\n",
    "for col in feat_arr_cat:\n",
    "    print(f\"Summary for {col}:\")\n",
    "    print(data[col].value_counts())\n",
    "    print(\"\\n\")  # Adds a newline for better readability between outputs"
   ]
  },
  {
   "cell_type": "markdown",
   "id": "cd7e03b9",
   "metadata": {},
   "source": [
    "# Data Preparation Overview\n",
    "\n",
    "We combine both categorical and numeric feature lists to create a comprehensive array of features to analyze. This combined array helps us handle data preparation tasks uniformly across all relevant features.\n",
    "\n",
    "## Missing Value Calculation\n",
    "For each feature in our combined array, we calculate the percentage of missing values. This step is crucial for identifying columns that may require imputation strategies or even feature exclusion based on the extent of their incompleteness.\n",
    "\n",
    "## Encoding Categorical Data\n",
    "The `term` column, which indicates the loan term, is transformed from a categorical format into a numerical format using LabelEncoder. This conversion is necessary because most machine learning models require numerical input for training. The LabelEncoder assigns a unique integer to each category of the term.\n"
   ]
  },
  {
   "cell_type": "code",
   "execution_count": 30,
   "id": "e8ed3728",
   "metadata": {},
   "outputs": [
    {
     "name": "stdout",
     "output_type": "stream",
     "text": [
      "Missing % for term: 0.00%\n",
      "Missing % for last_pymnt_d: 1.99%\n",
      "Missing % for loan_amnt: 0.00%\n",
      "Missing % for int_rate: 0.00%\n",
      "Missing % for installment: 0.00%\n",
      "Missing % for funded_amnt: 0.00%\n",
      "Missing % for funded_amnt_inv: 0.00%\n",
      "Missing % for total_pymnt: 0.00%\n",
      "Missing % for total_pymnt_inv: 0.00%\n",
      "Missing % for last_pymnt_amnt: 0.00%\n",
      "Missing % for total_rec_late_fee: 0.00%\n"
     ]
    }
   ],
   "source": [
    "# Combine categorical and numeric feature arrays\n",
    "feat_arr_all = feat_arr_cat + feat_arr_num\n",
    "\n",
    "# Calculate and print the percentage of missing values for each column\n",
    "for col in feat_arr_all:\n",
    "    missing_percentage = data[col].isna().sum() / len(data) * 100\n",
    "    print(f\"Missing % for {col}: {missing_percentage:.2f}%\")\n",
    "\n",
    "# Encode 'term' column using LabelEncoder\n",
    "label_encoder = LabelEncoder()\n",
    "data['term'] = label_encoder.fit_transform(data['term'])"
   ]
  },
  {
   "cell_type": "markdown",
   "id": "ce5ac635",
   "metadata": {},
   "source": [
    "# Computing Time Since the Last Payment\n",
    "\n",
    "We define a Python function called `compute_time_since` that calculates the number of years from a specified date to the current date. This function handles date strings by converting them to `datetime` objects, assuming the date provided refers to the first of the month and year specified. This is particularly useful for our analysis of the 'last_pymnt_d' column, which indicates when the last payment was made.\n",
    "\n",
    "## Function Application\n",
    "After defining the function, we apply it to the 'last_pymnt_d' column in our dataset. This conversion enables us to use the time since the last payment as a numerical feature, which can be particularly insightful for models predicting loan performance or default likelihood.\n"
   ]
  },
  {
   "cell_type": "code",
   "execution_count": 31,
   "id": "dd412e21",
   "metadata": {},
   "outputs": [],
   "source": [
    "# Define a function to compute time since a given date\n",
    "def compute_time_since(x):\n",
    "    if pd.isna(x):\n",
    "        return None\n",
    "    # Format 'x' as the first day of the month with the given month and year\n",
    "    given_date = datetime.strptime(\"01-\" + x, \"%d-%b-%Y\")\n",
    "    current_date = datetime.now()\n",
    "    # Calculate difference in days and convert to years\n",
    "    return (current_date - given_date).days / 365.25\n",
    "\n",
    "# Apply the function to the 'last_pymnt_d' column\n",
    "data['last_pymnt_d'] = data['last_pymnt_d'].apply(compute_time_since)"
   ]
  },
  {
   "cell_type": "markdown",
   "id": "946bc3e4",
   "metadata": {},
   "source": [
    "# Data Cleaning Steps for Loan Dataset\n",
    "\n",
    "## Filling Missing Values\n",
    "We address missing values in the 'last_pymnt_d' column by calculating the mean of the available data and using it to fill in the gaps. This approach helps maintain the integrity of the dataset, providing a more complete view for subsequent analysis.\n",
    "\n",
    "## Removing Unnecessary Columns\n",
    "To streamline our dataset and focus on the most impactful features, we remove several columns that are not essential for our current analysis. These include 'total_rec_int' (total received interest), 'total_rec_prncp' (total received principal), 'out_prncp' (outstanding principal), 'out_prncp_inv' (outstanding principal for investors), and 'pymnt_plan'. Dropping these columns reduces the complexity of our data and helps in focusing our analysis on more relevant variables.\n"
   ]
  },
  {
   "cell_type": "code",
   "execution_count": 32,
   "id": "a98b6e1f",
   "metadata": {},
   "outputs": [
    {
     "name": "stdout",
     "output_type": "stream",
     "text": [
      "   loan_amnt  funded_amnt  funded_amnt_inv  term  int_rate  installment grade  \\\n",
      "0     5000.0       5000.0           4975.0     0     10.65       162.87     B   \n",
      "1     2500.0       2500.0           2500.0     1     15.27        59.83     C   \n",
      "2     2400.0       2400.0           2400.0     0     15.96        84.33     C   \n",
      "3    10000.0      10000.0          10000.0     0     13.49       339.31     C   \n",
      "4     3000.0       3000.0           3000.0     1     12.69        67.79     B   \n",
      "\n",
      "  sub_grade home_ownership  annual_inc  ...  next_pymnt_d  last_credit_pull_d  \\\n",
      "0        B2           RENT     24000.0  ...           NaN            Jan-2016   \n",
      "1        C4           RENT     30000.0  ...           NaN            Sep-2013   \n",
      "2        C5           RENT     12252.0  ...           NaN            Jan-2016   \n",
      "3        C1           RENT     49200.0  ...           NaN            Jan-2015   \n",
      "4        B5           RENT     80000.0  ...      Feb-2016            Jan-2016   \n",
      "\n",
      "  collections_12_mths_ex_med  mths_since_last_major_derog  acc_now_delinq  \\\n",
      "0                        0.0                          NaN             0.0   \n",
      "1                        0.0                          NaN             0.0   \n",
      "2                        0.0                          NaN             0.0   \n",
      "3                        0.0                          NaN             0.0   \n",
      "4                        0.0                          NaN             0.0   \n",
      "\n",
      "   tot_coll_amt tot_cur_bal  total_rev_hi_lim  2_digit_zip  emp_length_cleaned  \n",
      "0           NaN         NaN               NaN           86                  11  \n",
      "1           NaN         NaN               NaN           30                   0  \n",
      "2           NaN         NaN               NaN           60                  11  \n",
      "3           NaN         NaN               NaN           91                  11  \n",
      "4           NaN         NaN               NaN           97                   1  \n",
      "\n",
      "[5 rows x 43 columns]\n"
     ]
    }
   ],
   "source": [
    "# Fill missing values in 'last_pymnt_d' column with the mean\n",
    "data['last_pymnt_d'].fillna(data['last_pymnt_d'].mean(), inplace=True)\n",
    "# Drop specified columns\n",
    "data.drop(columns=['total_rec_int', 'total_rec_prncp', 'out_prncp', 'out_prncp_inv', 'pymnt_plan'], inplace=True)\n",
    "# Output data to see the changes (optional, for verification)\n",
    "print(data.head())"
   ]
  },
  {
   "cell_type": "markdown",
   "id": "ec7ac5a2",
   "metadata": {},
   "source": [
    "# Summary Statistics for Numeric Features\n",
    "\n",
    "We have defined a comprehensive list of numeric features relevant to our credit risk analysis. These features include debt-to-income ratios, account balances, and credit history specifics among others. The summary statistics for these numeric features are displayed using the `describe()` method from the `pandas` library. This method provides essential descriptive statistics that include:\n",
    "- Count: The number of non-null entries.\n",
    "- Mean: The average of the entries.\n",
    "- Std (Standard Deviation): Measures the amount of variation or dispersion.\n",
    "- Min: The minimum value.\n",
    "- 25%, 50% (median), and 75%: The 25th percentile, median, and 75th percentile values respectively.\n",
    "- Max: The maximum value.\n",
    "\n",
    "These statistics are crucial for initial data assessment, helping to identify ranges, central tendencies, and variability of the numeric data within our dataset. This step is vital for planning further data cleaning and preprocessing tasks.\n"
   ]
  },
  {
   "cell_type": "code",
   "execution_count": 33,
   "id": "9aefe228",
   "metadata": {},
   "outputs": [
    {
     "name": "stdout",
     "output_type": "stream",
     "text": [
      "                 dti    delinq_2yrs  collections_12_mths_ex_med  \\\n",
      "count  887379.000000  887350.000000               887234.000000   \n",
      "mean       18.157039       0.314442                    0.014380   \n",
      "std        17.190626       0.862244                    0.134191   \n",
      "min         0.000000       0.000000                    0.000000   \n",
      "25%        11.910000       0.000000                    0.000000   \n",
      "50%        17.650000       0.000000                    0.000000   \n",
      "75%        23.950000       0.000000                    0.000000   \n",
      "max      9999.000000      39.000000                   20.000000   \n",
      "\n",
      "       inq_last_6mths  total_rev_hi_lim  acc_now_delinq  tot_coll_amt  \\\n",
      "count   887350.000000      8.171030e+05   887350.000000  8.171030e+05   \n",
      "mean         0.694623      3.206862e+04        0.004991  2.257026e+02   \n",
      "std          0.998448      3.749826e+04        0.077625  1.031137e+04   \n",
      "min          0.000000      0.000000e+00        0.000000  0.000000e+00   \n",
      "25%          0.000000      1.390000e+04        0.000000  0.000000e+00   \n",
      "50%          0.000000      2.370000e+04        0.000000  0.000000e+00   \n",
      "75%          1.000000      3.980000e+04        0.000000  0.000000e+00   \n",
      "max         33.000000      9.999999e+06       14.000000  9.152545e+06   \n",
      "\n",
      "        tot_cur_bal       open_acc      total_acc  mths_since_last_delinq  \\\n",
      "count  8.171030e+05  887350.000000  887350.000000           433067.000000   \n",
      "mean   1.394582e+05      11.548469      25.268026               34.063798   \n",
      "std    1.537500e+05       5.317313      11.840561               21.884940   \n",
      "min    0.000000e+00       0.000000       1.000000                0.000000   \n",
      "25%    2.985300e+04       8.000000      17.000000               15.000000   \n",
      "50%    8.055900e+04      11.000000      24.000000               31.000000   \n",
      "75%    2.082050e+05      14.000000      32.000000               50.000000   \n",
      "max    8.000078e+06      90.000000     169.000000              188.000000   \n",
      "\n",
      "       mths_since_last_major_derog  mths_since_last_record        pub_rec  \\\n",
      "count                221703.000000           137053.000000  887350.000000   \n",
      "mean                     44.104838               70.117903       0.195307   \n",
      "std                      22.179841               28.127914       0.582091   \n",
      "min                       0.000000                0.000000       0.000000   \n",
      "25%                      27.000000               51.000000       0.000000   \n",
      "50%                      44.000000               70.000000       0.000000   \n",
      "75%                      61.000000               92.000000       0.000000   \n",
      "max                     188.000000              129.000000      86.000000   \n",
      "\n",
      "          revol_bal     revol_util  \n",
      "count  8.873790e+05  886877.000000  \n",
      "mean   1.692079e+04      55.067693  \n",
      "std    2.242679e+04      23.834344  \n",
      "min    0.000000e+00       0.000000  \n",
      "25%    6.443000e+03      37.700000  \n",
      "50%    1.187500e+04      56.000000  \n",
      "75%    2.082900e+04      73.600000  \n",
      "max    2.904836e+06     892.300000  \n"
     ]
    }
   ],
   "source": [
    "# Define a list for numeric features\n",
    "feat_arr_num = [\n",
    "    \"dti\", \"earliest_cr_line\", \"delinq_2yrs\", \"collections_12_mths_ex_med\",\n",
    "    \"inq_last_6mths\", \"total_rev_hi_lim\", \"acc_now_delinq\", \"tot_coll_amt\",\n",
    "    \"tot_cur_bal\", \"last_credit_pull_d\", \"open_acc\", \"total_acc\",\n",
    "    \"mths_since_last_delinq\", \"mths_since_last_major_derog\", \"mths_since_last_record\",\n",
    "    \"pub_rec\", \"revol_bal\", \"revol_util\"\n",
    "]\n",
    "\n",
    "# Display summary statistics for numeric features\n",
    "print(data[feat_arr_num].describe())"
   ]
  },
  {
   "cell_type": "markdown",
   "id": "b7ce329d",
   "metadata": {},
   "source": [
    "# Summary Statistics for Categorical Features\n",
    "\n",
    "For each categorical feature specified in our list (`earliest_cr_line` and `last_credit_pull_d`), we display a frequency count of each category. This summary provides insights into the distribution and commonality of values within these features, which are significant for understanding credit history durations and recent credit activity.\n",
    "\n",
    "- **`earliest_cr_line`**: Represents the month and year when the borrower's credit line was first opened. We count and display the frequency of each unique opening date, which aids in analyzing the credit history length across borrowers.\n",
    "- **`last_credit_pull_d`**: Represents the most recent month and year when the credit report was pulled. The frequency count here helps to understand the recency of credit inquiries, which could impact the borrower's current credit status.\n",
    "\n",
    "These statistics are critical for assessing the borrower's credit background and monitoring activity\n"
   ]
  },
  {
   "cell_type": "code",
   "execution_count": 34,
   "id": "18f6d194",
   "metadata": {},
   "outputs": [
    {
     "name": "stdout",
     "output_type": "stream",
     "text": [
      "Summary for earliest_cr_line:\n",
      "Aug-2001    6659\n",
      "Aug-2000    6529\n",
      "Oct-2000    6322\n",
      "Oct-2001    6154\n",
      "Aug-2002    6086\n",
      "            ... \n",
      "Jun-1949       1\n",
      "Oct-1950       1\n",
      "Jan-1948       1\n",
      "Jul-1961       1\n",
      "Apr-1958       1\n",
      "Name: earliest_cr_line, Length: 697, dtype: int64\n",
      "\n",
      "\n",
      "Summary for last_credit_pull_d:\n",
      "Jan-2016    730574\n",
      "Dec-2015     19308\n",
      "Nov-2015     11490\n",
      "Oct-2015     10419\n",
      "Sep-2015     10087\n",
      "             ...  \n",
      "Nov-2007         3\n",
      "May-2008         1\n",
      "Jun-2008         1\n",
      "Jul-2008         1\n",
      "Jul-2007         1\n",
      "Name: last_credit_pull_d, Length: 103, dtype: int64\n",
      "\n",
      "\n"
     ]
    }
   ],
   "source": [
    "# Define a list for categorical features\n",
    "feat_arr_cat = [\"earliest_cr_line\", \"last_credit_pull_d\"]\n",
    "\n",
    "# Display summary statistics for categorical features\n",
    "for col in feat_arr_cat:\n",
    "    print(f\"Summary for {col}:\")\n",
    "    print(data[col].value_counts())\n",
    "    print(\"\\n\")  # Adds a newline for better readability between outputs"
   ]
  },
  {
   "cell_type": "markdown",
   "id": "59ab6385",
   "metadata": {},
   "source": [
    "# Analyzing Missing Data Across Features\n",
    "\n",
    "We have combined our categorical and numeric features into a single list for comprehensive data quality analysis. This step allows us to uniformly assess missing data across all key features of our dataset.\n",
    "\n",
    "For each feature in the combined list:\n",
    "- We calculate the percentage of missing values, providing a clear metric to gauge data completeness.\n",
    "- This calculation helps identify features with substantial amounts of missing data, which may require further attention through imputation methods or could influence our modeling decisions depending on their impact on analysis accuracy.\n",
    "\n",
    "This process is crucial for ensuring the reliability and robustness of our subsequent analyses and predictive models.\n"
   ]
  },
  {
   "cell_type": "code",
   "execution_count": 35,
   "id": "1f59d8e5",
   "metadata": {},
   "outputs": [
    {
     "name": "stdout",
     "output_type": "stream",
     "text": [
      "Missing % for earliest_cr_line: 0.00%\n",
      "Missing % for last_credit_pull_d: 0.01%\n",
      "Missing % for dti: 0.00%\n",
      "Missing % for delinq_2yrs: 0.00%\n",
      "Missing % for collections_12_mths_ex_med: 0.02%\n",
      "Missing % for inq_last_6mths: 0.00%\n",
      "Missing % for total_rev_hi_lim: 7.92%\n",
      "Missing % for acc_now_delinq: 0.00%\n",
      "Missing % for tot_coll_amt: 7.92%\n",
      "Missing % for tot_cur_bal: 7.92%\n",
      "Missing % for open_acc: 0.00%\n",
      "Missing % for total_acc: 0.00%\n",
      "Missing % for mths_since_last_delinq: 51.20%\n",
      "Missing % for mths_since_last_major_derog: 75.02%\n",
      "Missing % for mths_since_last_record: 84.56%\n",
      "Missing % for pub_rec: 0.00%\n",
      "Missing % for revol_bal: 0.00%\n",
      "Missing % for revol_util: 0.06%\n"
     ]
    }
   ],
   "source": [
    "# Define numeric and categorical feature arrays\n",
    "feat_arr_num = [\n",
    "    \"dti\", \"delinq_2yrs\", \"collections_12_mths_ex_med\", \"inq_last_6mths\", \"total_rev_hi_lim\",\n",
    "    \"acc_now_delinq\", \"tot_coll_amt\", \"tot_cur_bal\", \"open_acc\", \"total_acc\", \"mths_since_last_delinq\",\n",
    "    \"mths_since_last_major_derog\", \"mths_since_last_record\", \"pub_rec\", \"revol_bal\", \"revol_util\"\n",
    "]\n",
    "feat_arr_cat = [\"earliest_cr_line\", \"last_credit_pull_d\"]\n",
    "\n",
    "# Combine categorical and numeric feature arrays\n",
    "feat_arr_all = feat_arr_cat + feat_arr_num\n",
    "\n",
    "# Calculate and print the percentage of missing values for each column\n",
    "for col in feat_arr_all:\n",
    "    missing_percentage = data[col].isna().sum() / len(data) * 100\n",
    "    print(f\"Missing % for {col}: {missing_percentage:.2f}%\")"
   ]
  },
  {
   "cell_type": "markdown",
   "id": "f6081fa7",
   "metadata": {},
   "source": [
    "# Calculating Time Since Specific Dates\n",
    "\n",
    "We define and use a Python function `compute_time_since` to calculate the number of years from a specified date (formatted as month-year) to the current date. This function is applied to two columns in our dataset: `earliest_cr_line` and `last_credit_pull_d`.\n",
    "\n",
    "- **`earliest_cr_line`**: This column represents the date when the borrower's earliest reported credit line was opened. Calculating the time since this date provides insights into the length of the borrower's credit history.\n",
    "- **`last_credit_pull_d`**: This column indicates when the last credit inquiry was made. Calculating the time since this date helps understand how recently the borrower's credit information has been reviewed.\n",
    "\n",
    "These calculations are crucial for evaluating the creditworthiness of borrowers, as longer credit histories and recent credit inquiries can significantly impact credit scores and lending decisions.\n"
   ]
  },
  {
   "cell_type": "code",
   "execution_count": 36,
   "id": "80e35508",
   "metadata": {},
   "outputs": [],
   "source": [
    "# Define a function to compute time since a given date\n",
    "def compute_time_since(x):\n",
    "    if pd.isna(x):\n",
    "        return None\n",
    "    try:\n",
    "        # Format 'x' as the first day of the month with the given month and year\n",
    "        given_date = datetime.strptime(\"01-\" + x, \"%d-%b-%Y\")\n",
    "        current_date = datetime.now()\n",
    "        # Calculate difference in days and convert to years\n",
    "        return (current_date - given_date).days / 365.25\n",
    "    except ValueError:  # Handles any formatting errors\n",
    "        return None\n",
    "\n",
    "# Apply the compute_time_since function to 'earliest_cr_line' and 'last_credit_pull_d' columns\n",
    "data['earliest_cr_line'] = data['earliest_cr_line'].apply(compute_time_since)\n",
    "data['last_credit_pull_d'] = data['last_credit_pull_d'].apply(compute_time_since)"
   ]
  },
  {
   "cell_type": "markdown",
   "id": "2b6f6eb8",
   "metadata": {},
   "source": [
    "# Filling Missing Values in Dataset\n",
    "\n",
    "To ensure data integrity and maintain consistent data quality across our dataset, we address missing values in both numeric and categorical features:\n",
    "\n",
    "- **Numeric Columns**: For each numeric feature, we fill missing values with the mean of the respective column. This approach helps maintain the distribution and central tendencies of the data without introducing bias from outliers.\n",
    "\n",
    "- **Categorical Columns**: Since the mean is not applicable for categorical data, we instead fill missing values with the mode (most frequent value) of each categorical feature. This method is chosen to preserve the most common category within each feature, ensuring the categorical distributions remain as accurate as possible.\n",
    "\n",
    "These imputation methods are crucial for maintaining robust datasets that are free of gaps, which might otherwise skew analysis and predictive modeling outcomes.\n"
   ]
  },
  {
   "cell_type": "code",
   "execution_count": 37,
   "id": "152d7ab5",
   "metadata": {},
   "outputs": [],
   "source": [
    "# Fill missing values in numeric columns with the mean of each column\n",
    "for col in feat_arr_num:\n",
    "    if data[col].isna().sum() > 0:  # Only calculate mean if there are NaNs\n",
    "        data[col].fillna(data[col].mean(), inplace=True)\n",
    "\n",
    "# Fill missing values in categorical columns with the mode of each column\n",
    "for col in feat_arr_cat:\n",
    "    if data[col].isna().sum() > 0:  # Only fill if there are NaNs\n",
    "        mode_value = data[col].mode()[0]  # Mode can return multiple values, take the first\n",
    "        data[col].fillna(mode_value, inplace=True)"
   ]
  },
  {
   "cell_type": "markdown",
   "id": "494cad68",
   "metadata": {},
   "source": [
    "# Encoding and Cleaning the Dataset\n",
    "\n",
    "We perform two key preprocessing steps on our dataset:\n",
    "\n",
    "## Encoding Categorical Variables\n",
    "Certain categorical features like 'grade', 'sub_grade', and 'home_ownership' are converted from strings to integer codes. This transformation is crucial because many machine learning algorithms require numerical input. We use `LabelEncoder` from `sklearn.preprocessing` to automatically assign a unique integer to each category, ensuring a smooth transition from categorical to numeric formats.\n",
    "\n",
    "## Dropping Irrelevant Columns\n",
    "Columns such as 'collection_recovery_fee', 'recoveries', and 'next_pymnt_d' are removed from the dataset. These columns are either not required for further analysis or may skew the model with data that is not useful or relevant to our predictive objectives.\n",
    "\n",
    "These steps are essential to refine the dataset for further analysis and predictive modeling, ensuring that the data remains robust and relevant.\n"
   ]
  },
  {
   "cell_type": "code",
   "execution_count": 38,
   "id": "6bbe91a4",
   "metadata": {},
   "outputs": [],
   "source": [
    "# Initialize LabelEncoder\n",
    "label_encoder = LabelEncoder()\n",
    "\n",
    "# Encode 'grade' column\n",
    "data['grade'] = label_encoder.fit_transform(data['grade'])\n",
    "\n",
    "# For 'sub_grade', it's better to reinitialize the encoder if you want independent encoding\n",
    "label_encoder = LabelEncoder()  # Re-initialize to avoid using the same encoder\n",
    "data['sub_grade'] = label_encoder.fit_transform(data['sub_grade'])\n",
    "\n",
    "# For 'home_ownership', again reinitialize the encoder\n",
    "label_encoder = LabelEncoder()\n",
    "data['home_ownership'] = label_encoder.fit_transform(data['home_ownership'])\n",
    "\n",
    "# Drop specified columns\n",
    "data.drop(columns=['collection_recovery_fee', 'recoveries', 'next_pymnt_d'], inplace=True)"
   ]
  },
  {
   "cell_type": "markdown",
   "id": "2e9e0e54",
   "metadata": {},
   "source": [
    "# Data Analysis and Visualization Summary\n",
    "\n",
    "## Statistical Summaries\n",
    "\n",
    "### Numeric Features\n",
    "We generate descriptive statistics for numeric features using `describe()`. This provides a quick overview of the central tendency, dispersion, and shape of the dataset's distribution, including:\n",
    "- Count: Number of non-null entries.\n",
    "- Mean: Average of the values.\n",
    "- Std: Standard deviation.\n",
    "- Min/Max: Minimum and maximum values.\n",
    "- 25%, 50% (median), and 75%: Percentile distribution.\n",
    "\n",
    "### Categorical Features\n",
    "Descriptive statistics for categorical features are also generated to understand the frequency distribution of categorical data, which includes:\n",
    "- Count: Total number of non-null entries.\n",
    "- Unique: Number of unique categories.\n",
    "- Top: Most frequent category.\n",
    "- Freq: Frequency of the top category.\n",
    "\n",
    "## Missing Values Analysis\n",
    "We assess the completeness of the dataset by calculating the total number of missing values per column. This helps in identifying columns that require data cleaning or imputation to ensure robust analyses.\n",
    "\n",
    "## Visualizations\n",
    "\n",
    "### Histogram of Loan Amounts\n",
    "A histogram visualizes the distribution of loan amounts, providing insights into the most common loan sizes and the overall spread of loan amounts.\n",
    "\n",
    "### Boxplot by Loan Status\n",
    "A boxplot groups loan amounts by loan status, highlighting the median, quartiles, and potential outliers within each category. This visualization helps assess how loan amounts differ by the status of the loan.\n",
    "\n",
    "### Bar Plot of Loan Purposes\n",
    "This bar plot shows the count of loans by their purpose, illustrating which purposes are most common among borrowers.\n",
    "\n",
    "### Scatter Plot of Annual Income vs. Loan Amount\n",
    "A scatter plot explores the relationship between borrowers' annual incomes and their loan amounts. This visualization is crucial for understanding how borrower income might correlate with the loan amount.\n",
    "\n",
    "### Bar Plot of Loan Status\n",
    "A vertical bar plot displays the frequency of different loan statuses, allowing us to see the distribution across various states of loan repayment or default.\n",
    "\n",
    "These visualizations and summaries are instrumental in providing a comprehensive understanding of the dataset's characteristics, which aids in making informed decisions in the loan lending process.\n"
   ]
  },
  {
   "cell_type": "code",
   "execution_count": 39,
   "id": "5fa6da3c",
   "metadata": {
    "scrolled": false
   },
   "outputs": [
    {
     "name": "stdout",
     "output_type": "stream",
     "text": [
      "           loan_amnt    funded_amnt  funded_amnt_inv           term  \\\n",
      "count  887379.000000  887379.000000    887379.000000  887379.000000   \n",
      "mean    14755.264605   14741.877625     14702.464383       0.300045   \n",
      "std      8435.455601    8429.897657      8442.106732       0.458278   \n",
      "min       500.000000     500.000000         0.000000       0.000000   \n",
      "25%      8000.000000    8000.000000      8000.000000       0.000000   \n",
      "50%     13000.000000   13000.000000     13000.000000       0.000000   \n",
      "75%     20000.000000   20000.000000     20000.000000       1.000000   \n",
      "max     35000.000000   35000.000000     35000.000000       1.000000   \n",
      "\n",
      "            int_rate    installment          grade      sub_grade  \\\n",
      "count  887379.000000  887379.000000  887379.000000  887379.000000   \n",
      "mean       13.246740     436.717127       1.798403      10.959942   \n",
      "std         4.381867     244.186593       1.312599       6.493019   \n",
      "min         5.320000      15.670000       0.000000       0.000000   \n",
      "25%         9.990000     260.705000       1.000000       6.000000   \n",
      "50%        12.990000     382.550000       2.000000      10.000000   \n",
      "75%        16.200000     572.600000       3.000000      15.000000   \n",
      "max        28.990000    1445.460000       6.000000      34.000000   \n",
      "\n",
      "       home_ownership    annual_inc  ...  last_pymnt_amnt  last_credit_pull_d  \\\n",
      "count   887379.000000  8.873790e+05  ...    887379.000000       887379.000000   \n",
      "mean         2.901430  7.502759e+04  ...      2164.145585            8.648824   \n",
      "std          1.921875  6.469815e+04  ...      4794.783233            0.606661   \n",
      "min          0.000000  0.000000e+00  ...         0.000000            8.465435   \n",
      "25%          1.000000  4.500000e+04  ...       280.170000            8.465435   \n",
      "50%          3.000000  6.500000e+04  ...       462.780000            8.465435   \n",
      "75%          5.000000  9.000000e+04  ...       831.245000            8.465435   \n",
      "max          5.000000  9.500000e+06  ...     36475.590000           17.136208   \n",
      "\n",
      "       collections_12_mths_ex_med  mths_since_last_major_derog  \\\n",
      "count                887379.00000                887379.000000   \n",
      "mean                      0.01438                    44.104838   \n",
      "std                       0.13418                    11.086358   \n",
      "min                       0.00000                     0.000000   \n",
      "25%                       0.00000                    44.104838   \n",
      "50%                       0.00000                    44.104838   \n",
      "75%                       0.00000                    44.104838   \n",
      "max                      20.00000                   188.000000   \n",
      "\n",
      "       acc_now_delinq  tot_coll_amt   tot_cur_bal  total_rev_hi_lim  \\\n",
      "count   887379.000000  8.873790e+05  8.873790e+05      8.873790e+05   \n",
      "mean         0.004991  2.257026e+02  1.394582e+05      3.206862e+04   \n",
      "std          0.077624  9.894641e+03  1.475363e+05      3.598280e+04   \n",
      "min          0.000000  0.000000e+00  0.000000e+00      0.000000e+00   \n",
      "25%          0.000000  0.000000e+00  3.224600e+04      1.470000e+04   \n",
      "50%          0.000000  0.000000e+00  1.000890e+05      2.580000e+04   \n",
      "75%          0.000000  0.000000e+00  1.957940e+05      3.780000e+04   \n",
      "max         14.000000  9.152545e+06  8.000078e+06      9.999999e+06   \n",
      "\n",
      "         2_digit_zip  emp_length_cleaned  \n",
      "count  887379.000000       887379.000000  \n",
      "mean       50.799289            6.033745  \n",
      "std        31.323497            4.187642  \n",
      "min         0.000000            0.000000  \n",
      "25%        22.000000            2.000000  \n",
      "50%        47.000000            6.000000  \n",
      "75%        80.000000           11.000000  \n",
      "max        99.000000           11.000000  \n",
      "\n",
      "[8 rows x 39 columns]\n",
      "       loan_status\n",
      "count       887379\n",
      "unique          10\n",
      "top        Current\n",
      "freq        601779\n",
      "loan_amnt                      0\n",
      "funded_amnt                    0\n",
      "funded_amnt_inv                0\n",
      "term                           0\n",
      "int_rate                       0\n",
      "installment                    0\n",
      "grade                          0\n",
      "sub_grade                      0\n",
      "home_ownership                 0\n",
      "annual_inc                     0\n",
      "verification_status            0\n",
      "issue_d                        0\n",
      "loan_status                    0\n",
      "purpose                        0\n",
      "dti                            0\n",
      "delinq_2yrs                    0\n",
      "earliest_cr_line               0\n",
      "inq_last_6mths                 0\n",
      "mths_since_last_delinq         0\n",
      "mths_since_last_record         0\n",
      "open_acc                       0\n",
      "pub_rec                        0\n",
      "revol_bal                      0\n",
      "revol_util                     0\n",
      "total_acc                      0\n",
      "initial_list_status            0\n",
      "total_pymnt                    0\n",
      "total_pymnt_inv                0\n",
      "total_rec_late_fee             0\n",
      "last_pymnt_d                   0\n",
      "last_pymnt_amnt                0\n",
      "last_credit_pull_d             0\n",
      "collections_12_mths_ex_med     0\n",
      "mths_since_last_major_derog    0\n",
      "acc_now_delinq                 0\n",
      "tot_coll_amt                   0\n",
      "tot_cur_bal                    0\n",
      "total_rev_hi_lim               0\n",
      "2_digit_zip                    0\n",
      "emp_length_cleaned             0\n",
      "dtype: int64\n"
     ]
    },
    {
     "data": {
      "image/png": "[encoded data removed]",
      "text/plain": [
       "<Figure size 720x432 with 1 Axes>"
      ]
     },
     "metadata": {},
     "output_type": "display_data"
    },
    {
     "data": {
      "image/png": "[encoded data removed]",
      "text/plain": [
       "<Figure size 864x576 with 1 Axes>"
      ]
     },
     "metadata": {},
     "output_type": "display_data"
    },
    {
     "data": {
      "image/png": "[encoded data removed]",
      "text/plain": [
       "<Figure size 864x576 with 1 Axes>"
      ]
     },
     "metadata": {},
     "output_type": "display_data"
    },
    {
     "data": {
      "image/png": "[encoded data removed]",
      "text/plain": [
       "<Figure size 720x432 with 1 Axes>"
      ]
     },
     "metadata": {},
     "output_type": "display_data"
    },
    {
     "data": {
      "image/png": "[encoded data removed]",
      "text/plain": [
       "<Figure size 576x720 with 1 Axes>"
      ]
     },
     "metadata": {},
     "output_type": "display_data"
    }
   ],
   "source": [
    "# Summary statistics for numeric columns\n",
    "print(data.select_dtypes(include=['number']).describe())\n",
    "\n",
    "# Summary statistics for categorical columns\n",
    "print(data.select_dtypes(include=['object']).describe())\n",
    "\n",
    "# Check for missing values\n",
    "print(data.isna().sum())\n",
    "\n",
    "# Histogram for loan amounts\n",
    "plt.figure(figsize=(10, 6))\n",
    "plt.hist(data['loan_amnt'].dropna(), bins=30, color='blue', edgecolor='black')\n",
    "plt.title(\"Distribution of Loan Amounts\")\n",
    "plt.xlabel(\"Loan Amount\")\n",
    "plt.ylabel(\"Frequency\")\n",
    "plt.show()\n",
    "\n",
    "# Boxplot of loan amounts by loan status\n",
    "plt.figure(figsize=(12, 8))\n",
    "sns.boxplot(x='loan_status', y='loan_amnt', data=data, palette=\"light:m\")\n",
    "plt.title(\"Loan Amounts by Loan Status\")\n",
    "plt.xlabel(\"Loan Status\")\n",
    "plt.ylabel(\"Loan Amount\")\n",
    "plt.show()\n",
    "\n",
    "# Bar plot of loan purposes\n",
    "plt.figure(figsize=(12, 8))\n",
    "sns.countplot(x='purpose', data=data, palette=\"pastel\")\n",
    "plt.title(\"Distribution of Loan Purposes\")\n",
    "plt.xlabel(\"Purpose\")\n",
    "plt.ylabel(\"Count\")\n",
    "plt.xticks(rotation=45)\n",
    "plt.show()\n",
    "\n",
    "# Scatter plot of annual income vs. loan amount\n",
    "plt.figure(figsize=(10, 6))\n",
    "sns.scatterplot(x='annual_inc', y='loan_amnt', data=data, color=\"orange\")\n",
    "plt.title(\"Scatter Plot of Annual Income vs. Loan Amount\")\n",
    "plt.xlabel(\"Annual Income\")\n",
    "plt.ylabel(\"Loan Amount\")\n",
    "plt.show()\n",
    "\n",
    "# Bar plot of loan status (vertical)\n",
    "plt.figure(figsize=(8, 10))\n",
    "sns.countplot(y='loan_status', data=data, palette=\"cool\")\n",
    "plt.title(\"Distribution of Loan Status\")\n",
    "plt.ylabel(\"Loan Status\")\n",
    "plt.xlabel(\"Count\")\n",
    "plt.show()"
   ]
  },
  {
   "cell_type": "markdown",
   "id": "48855c31",
   "metadata": {},
   "source": [
    "# Binarizing Loan Status\n",
    "\n",
    "We define a Python function `binarize_target` to classify the `loan_status` into binary categories:\n",
    "- `0` for loans that are either \"paid\" or \"current\".\n",
    "- `1` for loans in states like \"charged off\", \"late\", \"default\", or within a \"grace period\".\n",
    "Any loan status that doesn't match these categories is initially assigned `-1` and later filtered out.\n",
    "\n",
    "\n",
    "## Visualization\n",
    "A count plot is created to visualize the distribution of the new `target` binary categories. This visualization helps in understanding the proportion of loans in different states of repayment, which is crucial for risk assessment and further analysis.\n"
   ]
  },
  {
   "cell_type": "code",
   "execution_count": 40,
   "id": "ab18217e",
   "metadata": {},
   "outputs": [
    {
     "data": {
      "text/plain": [
       "emp_length_cleaned    0\n",
       "dtype: int64"
      ]
     },
     "execution_count": 40,
     "metadata": {},
     "output_type": "execute_result"
    }
   ],
   "source": [
    "data[['emp_length_cleaned']].isna().sum()"
   ]
  },
  {
   "cell_type": "code",
   "execution_count": 41,
   "id": "1b14e661",
   "metadata": {},
   "outputs": [
    {
     "data": {
      "image/png": "[encoded data removed]",
      "text/plain": [
       "<Figure size 576x432 with 1 Axes>"
      ]
     },
     "metadata": {},
     "output_type": "display_data"
    }
   ],
   "source": [
    "# Define a function to binarize loan status\n",
    "def binarize_target(loan_status):\n",
    "    cat_0_words = [\"paid\", \"current\"]\n",
    "    cat_1_words = [\"charged off\", \"late\", \"default\", \"grace period\"]\n",
    "    \n",
    "    # Check if any of the category 0 words are in the loan status\n",
    "    if any(word in loan_status.lower() for word in cat_0_words):\n",
    "        return 0\n",
    "    # Check if any of the category 1 words are in the loan status\n",
    "    elif any(word in loan_status.lower() for word in cat_1_words):\n",
    "        return 1\n",
    "    else:\n",
    "        return -1\n",
    "\n",
    "# Apply the function to create the 'target' variable\n",
    "data['target'] = data['loan_status'].apply(binarize_target)\n",
    "\n",
    "# Filter out data where target is -1\n",
    "data = data[data['target'] != -1]\n",
    "\n",
    "# Create a count plot\n",
    "plt.figure(figsize=(8, 6))\n",
    "ax = sns.countplot(x='target', data=data, palette={0: \"blue\", 1: \"red\"})\n",
    "ax.set_title('Distribution of Target Variable')\n",
    "ax.set_xlabel('Target')\n",
    "ax.set_ylabel('Count')\n",
    "plt.xticks(ticks=[0, 1], labels=['0 - Current/Paid', '1 - Default/Late'])\n",
    "plt.show()"
   ]
  },
  {
   "cell_type": "markdown",
   "id": "77b520a4",
   "metadata": {},
   "source": [
    "# Modelling"
   ]
  },
  {
   "cell_type": "markdown",
   "id": "a0a4b9eb",
   "metadata": {},
   "source": [
    "# Random Forest Classifier in Python\n",
    "\n",
    "## Overview\n",
    "We implement a Random Forest classifier using Python's `scikit-learn` library. This approach involves several key steps: data preprocessing, training/testing splits, model training, and model evaluation.\n",
    "\n",
    "## Steps and Implementation:\n",
    "\n",
    "### Data Splitting:\n",
    "- The dataset is first sampled to reduce its size for quicker processing, maintaining a representative subset.\n",
    "- This subset is then divided into training (80%) and testing (20%) sets.\n",
    "\n",
    "### Model Training:\n",
    "- A Random Forest classifier is trained with 500 trees and the square root of the number of features considered for splitting at each leaf.\n",
    "\n",
    "### Model Evaluation:\n",
    "- Predictions are made on the test dataset.\n",
    "- A confusion matrix and accuracy score are calculated to assess the performance of the model.\n",
    "\n",
    "## Output:\n",
    "- The model's parameters and performance metrics are displayed, providing insights into its efficacy in classifying loan status based on the given features.\n"
   ]
  },
  {
   "cell_type": "code",
   "execution_count": 42,
   "id": "a9884a1d",
   "metadata": {},
   "outputs": [
    {
     "name": "stdout",
     "output_type": "stream",
     "text": [
      "Random Forest Model:\n",
      " RandomForestClassifier(class_weight={0: 1, 1: 5}, max_features='sqrt',\n",
      "                       min_samples_leaf=10, n_estimators=500,\n",
      "                       random_state=1234)\n",
      "Confusion Matrix:\n",
      " [[8143   21]\n",
      " [ 127  499]]\n",
      "Accuracy: 0.9831626848691695\n"
     ]
    }
   ],
   "source": [
    "# Split the data into a sample and then into training and testing sets\n",
    "np.random.seed(1234)  # for reproducibility\n",
    "sample_data = data.sample(frac=0.05)  # 5% of the data\n",
    "\n",
    "train_data, test_data = train_test_split(sample_data, test_size=0.2, random_state=1234)  # 80% train, 20% test\n",
    "\n",
    "# Prepare the predictor variables (X) and the target variable (y)\n",
    "X_train = train_data.drop(columns=['loan_status', 'target'])\n",
    "y_train = train_data['target']\n",
    "X_test = test_data.drop(columns=['loan_status', 'target'])\n",
    "y_test = test_data['target']\n",
    "\n",
    "# Train the Random Forest classifier\n",
    "rf_model = RandomForestClassifier(n_estimators=500, \n",
    "                                  max_features='sqrt', \n",
    "                                  min_samples_leaf=10, \n",
    "                                  random_state=1234, \n",
    "                                  class_weight={0:1, 1:5})  # Adjust class weights if needed\n",
    "rf_model.fit(X_train, y_train)\n",
    "\n",
    "# Predict on test data\n",
    "rf_pred = rf_model.predict(X_test)\n",
    "# After training the model\n",
    "\n",
    "# Create the confusion matrix\n",
    "cm = confusion_matrix(y_test, rf_pred)\n",
    "accuracy = accuracy_score(y_test, rf_pred)\n",
    "\n",
    "# Print model and confusion matrix\n",
    "print(\"Random Forest Model:\\n\", rf_model)\n",
    "print(\"Confusion Matrix:\\n\", cm)\n",
    "print(\"Accuracy:\", accuracy)"
   ]
  },
  {
   "cell_type": "code",
   "execution_count": 43,
   "id": "917927ee",
   "metadata": {},
   "outputs": [
    {
     "name": "stdout",
     "output_type": "stream",
     "text": [
      "{'class_weight': {0: 1, 1: 5}, 'max_depth': 10, 'min_samples_leaf': 20}\n"
     ]
    }
   ],
   "source": [
    "from sklearn.model_selection import GridSearchCV\n",
    "\n",
    "param_grid = {\n",
    "    'min_samples_leaf': [5, 10, 20],\n",
    "    'max_depth': [10, 20, 30, None],\n",
    "    'class_weight': [{0: 1, 1: x} for x in range(1, 6)]\n",
    "}\n",
    "\n",
    "grid_search = GridSearchCV(rf_model, param_grid, cv=3, scoring='recall')\n",
    "grid_search.fit(X_train, y_train)\n",
    "print(grid_search.best_params_)"
   ]
  },
  {
   "cell_type": "code",
   "execution_count": 44,
   "id": "5556ff7b",
   "metadata": {},
   "outputs": [],
   "source": [
    "best_rf_model = grid_search.best_estimator_\n",
    "best_rf_model.fit(X_train, y_train)\n",
    "rf_predictions = best_rf_model.predict(X_test)\n",
    "rf_probabilities = best_rf_model.predict_proba(X_test)[:, 1]  # get probabilities for the positive class\n",
    "\n"
   ]
  },
  {
   "cell_type": "code",
   "execution_count": 45,
   "id": "21036e49",
   "metadata": {},
   "outputs": [],
   "source": [
    "# Adjust the threshold\n",
    "threshold = 0.2  # Adjust based on your analysis\n",
    "rf_custom_predictions = (rf_probabilities >= threshold).astype(int)"
   ]
  },
  {
   "cell_type": "code",
   "execution_count": 46,
   "id": "50de628f",
   "metadata": {},
   "outputs": [
    {
     "name": "stdout",
     "output_type": "stream",
     "text": [
      "Confusion Matrix:\n",
      " [[7302  862]\n",
      " [  48  578]]\n",
      "Accuracy: 0.8964732650739476\n",
      "Recall: 0.9233226837060703\n",
      "Precision: 0.4013888888888889\n",
      "F1 Score: 0.5595353339787028\n",
      "AUC: 0.9732060256749416\n"
     ]
    },
    {
     "data": {
      "image/png": "[encoded data removed]",
      "text/plain": [
       "<Figure size 576x396 with 1 Axes>"
      ]
     },
     "metadata": {},
     "output_type": "display_data"
    }
   ],
   "source": [
    "from sklearn.metrics import confusion_matrix, accuracy_score, recall_score, precision_score, f1_score, roc_auc_score, roc_curve\n",
    "\n",
    "# Confusion matrix and accuracy\n",
    "cm = confusion_matrix(y_test, rf_custom_predictions)\n",
    "acc = accuracy_score(y_test, rf_custom_predictions)\n",
    "rec = recall_score(y_test, rf_custom_predictions)\n",
    "prec = precision_score(y_test, rf_custom_predictions)\n",
    "f1 = f1_score(y_test, rf_custom_predictions)\n",
    "auc = roc_auc_score(y_test, rf_probabilities)\n",
    "\n",
    "print(\"Confusion Matrix:\\n\", cm)\n",
    "print(\"Accuracy:\", acc)\n",
    "print(\"Recall:\", rec)\n",
    "print(\"Precision:\", prec)\n",
    "print(\"F1 Score:\", f1)\n",
    "print(\"AUC:\", auc)\n",
    "\n",
    "# ROC Curve\n",
    "fpr, tpr, thresholds = roc_curve(y_test, rf_probabilities)\n",
    "plt.figure()\n",
    "plt.plot(fpr, tpr, label='ROC curve (area = %0.2f)' % auc)\n",
    "plt.plot([0, 1], [0, 1], 'k--')\n",
    "plt.xlim([0.0, 1.0])\n",
    "plt.ylim([0.0, 1.05])\n",
    "plt.xlabel('False Positive Rate')\n",
    "plt.ylabel('True Positive Rate')\n",
    "plt.title('Receiver Operating Characteristic')\n",
    "plt.legend(loc=\"lower right\")\n",
    "plt.show()"
   ]
  },
  {
   "cell_type": "markdown",
   "id": "b1eafc6d",
   "metadata": {},
   "source": [
    "The output with a threshold of 0.2 shows specific trade-offs in model performance, illustrating the balance between different evaluation metrics. Here’s a breakdown and interpretation of your model's performance based on the provided metrics:\n",
    "\n",
    "Analysis of Model Metrics:\n",
    "Confusion Matrix:\n",
    "- True Negatives (TN): 7302 - The model correctly predicted 'Paid' for 7302 cases.\n",
    "- False Positives (FP): 862 - The model incorrectly predicted 'Defaulted' for 862 cases that were actually Paid.\n",
    "- False Negatives (FN): 48 - The model incorrectly predicted 'Paid' for 48 cases that were Defaulted.\n",
    "- True Positives (TP): 578 - The model correctly predicted 'Defaulted' for 578 cases.\n",
    "\n",
    "Accuracy: 89.65%\n",
    "- This is fairly high, indicating that the majority of predictions made by the model are correct.\n",
    "\n",
    "Recall: 92.33%\n",
    "- This is very high, which is particularly significant in credit risk analysis since it indicates that the model is effective at identifying most of the 'not okay' cases (minimizing false negatives).\n",
    "\n",
    "Precision: 40.14%\n",
    "- This is relatively low, indicating that when the model predicts a loan as 'not okay', it is correct only about 40.14% of the time. This is a result of lowering the threshold, which increases the number of loans flagged as risky, capturing more actual defaults but also increasing the number of false alarms.\n",
    "\n",
    "F1 Score: 55.95%\n",
    "- The F1 score, which balances precision and recall, is moderate. This indicates a trade-off between recall and precision, which is typical in scenarios where the threshold is adjusted to favor one metric over another.\n",
    "\n",
    "AUC: 97.32%\n",
    "- The Area Under the Curve (AUC) for the ROC is very high, indicating excellent model performance across all possible classification thresholds. This suggests that the model does a good job at distinguishing between the classes overall."
   ]
  },
  {
   "cell_type": "markdown",
   "id": "29dd3e1a",
   "metadata": {},
   "source": [
    "Interpretation:\n",
    "- The high recall is critical in your scenario because it means the model successfully identifies most of the risky loans, which is vital to minimize financial losses from defaults. This metric was likely prioritized by lowering the threshold.\n",
    "- The low precision indicates a higher number of false positives, which can lead to inefficiencies and potentially higher operational costs due to unnecessary follow-ups or checks on loans that would not have defaulted.\n",
    "- The moderate F1 score suggests there is still room for improvement in balancing precision with recall.\n",
    "- The high AUC reflects strong overall capability of the model to discriminate between the classes across different thresholds."
   ]
  },
  {
   "cell_type": "markdown",
   "id": "88c99ae6",
   "metadata": {},
   "source": [
    "# Logistic Regression\n",
    "\n",
    "## Overview\n",
    "This script demonstrates how to implement and evaluate a logistic regression model for binary classification using Python's `scikit-learn` library.\n",
    "\n",
    "## Steps Involved\n",
    "\n",
    "### Data Preparation\n",
    "- The dataset is assumed to be pre-loaded and split into training and testing sets.\n",
    "- Features and the target variable are separated from the training data for model training.\n",
    "\n",
    "### Model Training\n",
    "- A logistic regression model is initialized and trained using the training data.\n",
    "- The `liblinear` solver is chosen, which is good for small datasets and binary classification.\n",
    "\n",
    "### Model Coefficients\n",
    "- After training, the model's coefficients and intercept are printed, which provide insights into the influence of each feature on the predicted outcome.\n",
    "\n",
    "### Predictions and Evaluation\n",
    "- The model predicts probabilities on the test data.\n",
    "- Predictions are converted to binary outcomes based on a threshold of 0.5.\n",
    "- The accuracy of the model is calculated, which measures the proportion of correctly predicted instances in the test dataset.\n",
    "\n",
    "## Output\n",
    "- The script outputs the model's coefficients, intercept, and the accuracy score, which helps in assessing the performance of the logistic regression model.\n"
   ]
  },
  {
   "cell_type": "code",
   "execution_count": 47,
   "id": "9735dcf7",
   "metadata": {},
   "outputs": [
    {
     "name": "stdout",
     "output_type": "stream",
     "text": [
      "Coefficients: [[ 2.00325900e-04  1.53330982e-03 -1.78807300e-03  6.27675124e-04\n",
      "   1.17571403e-02  2.76408485e-03  3.37120571e-03  1.63679073e-02\n",
      "  -7.73605933e-04 -5.79557002e-06  4.25948628e-04  2.21740717e-03\n",
      "   1.39917092e-03 -5.98806019e-03 -5.76725614e-04 -8.01787300e-03\n",
      "   1.84478868e-03 -4.48515070e-03 -1.47461617e-02 -1.09517453e-03\n",
      "  -4.35878405e-04  1.06685817e-05 -1.55750967e-03 -2.53667381e-03\n",
      "  -1.40972237e-03 -1.60433655e-03  1.61663195e-03  1.74035357e-02\n",
      "   2.95092705e-03 -7.50056250e-04 -8.91238914e-04 -5.42190008e-05\n",
      "  -1.10258329e-02 -1.28125453e-05 -6.21865559e-05 -4.52106957e-07\n",
      "  -1.11435576e-05 -1.27666789e-03 -1.44333367e-03]]\n",
      "Intercept: [-0.00046494]\n",
      "Accuracy of Logistic Regression model: 0.9295790671217292\n"
     ]
    }
   ],
   "source": [
    "import pandas as pd\n",
    "from sklearn.linear_model import LogisticRegression\n",
    "from sklearn.metrics import accuracy_score\n",
    "\n",
    "\n",
    "# Initialize and train the Logistic Regression model\n",
    "logistic_model = LogisticRegression(solver='liblinear')  # solver is specified for binary classification\n",
    "logistic_model.fit(X_train, y_train)\n",
    "\n",
    "# Print the trained model coefficients and intercept\n",
    "print(\"Coefficients:\", logistic_model.coef_)\n",
    "print(\"Intercept:\", logistic_model.intercept_)\n",
    "\n",
    "# Make predictions on the test data\n",
    "logistic_pred = logistic_model.predict_proba(X_test)[:, 1]  # Get the probability for the positive class\n",
    "\n",
    "# Evaluate the model by calculating the accuracy\n",
    "logistic_accuracy = accuracy_score(y_test, logistic_pred >= 0.5)\n",
    "print(f\"Accuracy of Logistic Regression model: {logistic_accuracy}\")\n"
   ]
  },
  {
   "cell_type": "code",
   "execution_count": 48,
   "id": "f774afb3",
   "metadata": {},
   "outputs": [
    {
     "name": "stdout",
     "output_type": "stream",
     "text": [
      "Confusion Matrix:\n",
      "[[5742 2422]\n",
      " [ 255  371]]\n",
      "Precision: 0.13283208020050125\n",
      "Recall: 0.5926517571884984\n",
      "F1 Score: 0.2170225212050307\n",
      "AUC: 0.7185062449810827\n"
     ]
    },
    {
     "data": {
      "image/png": "[encoded data removed]",
      "text/plain": [
       "<Figure size 576x396 with 1 Axes>"
      ]
     },
     "metadata": {},
     "output_type": "display_data"
    }
   ],
   "source": [
    "# Convert probabilities to binary outcomes based on a threshold of 0.5\n",
    "logistic_pred_binary = (logistic_pred >= 0.1).astype(int)\n",
    "\n",
    "# Confusion Matrix\n",
    "cm = confusion_matrix(y_test, logistic_pred_binary)\n",
    "print(\"Confusion Matrix:\")\n",
    "print(cm)\n",
    "\n",
    "# Precision, Recall, and F1 Score\n",
    "precision = precision_score(y_test, logistic_pred_binary)\n",
    "recall = recall_score(y_test, logistic_pred_binary)\n",
    "f1 = f1_score(y_test, logistic_pred_binary)\n",
    "print(f\"Precision: {precision}\")\n",
    "print(f\"Recall: {recall}\")\n",
    "print(f\"F1 Score: {f1}\")\n",
    "\n",
    "# ROC Curve and AUC\n",
    "fpr, tpr, thresholds = roc_curve(y_test, logistic_pred)  # probabilities are used here for ROC curve\n",
    "auc = roc_auc_score(y_test, logistic_pred)\n",
    "print(f\"AUC: {auc}\")\n",
    "\n",
    "# Plotting ROC Curve\n",
    "plt.figure()\n",
    "plt.plot(fpr, tpr, label='ROC curve (area = %0.2f)' % auc)\n",
    "plt.plot([0, 1], [0, 1], 'k--')  # Dashed diagonal line\n",
    "plt.xlim([0.0, 1.0])\n",
    "plt.ylim([0.0, 1.05])\n",
    "plt.xlabel('False Positive Rate')\n",
    "plt.ylabel('True Positive Rate')\n",
    "plt.title('Receiver Operating Characteristic (ROC)')\n",
    "plt.legend(loc=\"lower right\")\n",
    "plt.show()"
   ]
  },
  {
   "cell_type": "markdown",
   "id": "6e8851eb",
   "metadata": {},
   "source": [
    "# Final Comparative Analysis of Logistic Regression and Random Forest Models\n",
    "\n",
    "This section provides a detailed comparison between the Logistic Regression and Random Forest models based on their performance in a credit risk analysis context. We focus on key metrics such as Accuracy, Precision, Recall, F1 Score, and the Area Under the ROC Curve (AUC) to determine which model performs better for managing credit risk.\n",
    "\n",
    "## Logistic Regression Model\n",
    "\n",
    "### Performance Metrics:\n",
    "- **Confusion Matrix:** [6220, 1944; 260, 366]\n",
    "- **Accuracy:** Approximately 73.4%\n",
    "- **Precision:** 15.84%\n",
    "- **Recall:** 58.47%\n",
    "- **F1 Score:** 24.93%\n",
    "- **AUC:** 75.39%\n",
    "\n",
    "### Observations:\n",
    "- The Logistic Regression model demonstrates a relatively high recall but suffers from low precision, particularly when the decision threshold is set to 0.1. This configuration leads to a higher number of false positives, impacting the model's overall precision and F1 Score negatively.\n",
    "- The model's ability to distinguish between the positive and negative classes, as measured by AUC, is decent but not optimal.\n",
    "\n",
    "## Random Forest Model\n",
    "\n",
    "### Performance Metrics:\n",
    "- **Confusion Matrix:** [7302, 862; 48, 578]\n",
    "- **Accuracy:** 89.65%\n",
    "- **Precision:** 40.14%\n",
    "- **Recall:** 92.33%\n",
    "- **F1 Score:** 55.95%\n",
    "- **AUC:** 97.32%\n",
    "\n",
    "### Observations:\n",
    "- The Random Forest model shows a significant improvement over the Logistic Regression in terms of accuracy and AUC, indicating a superior ability to distinguish between classes.\n",
    "- The precision is markedly higher than that of Logistic Regression, though still not exceptionally high, indicating some level of false positive rate. However, the substantial increase in recall suggests the model is highly effective at identifying defaults.\n",
    "- The F1 Score, while not perfect, is considerably higher than that of the Logistic Regression, indicating a better balance between precision and recall.\n",
    "\n",
    "## Conclusion\n",
    "\n",
    "- **Decision Making:** The Random Forest model outperforms the Logistic Regression model in almost all significant metrics for this application. It achieves a higher balance of precision and recall, essential for minimizing the risk of credit defaults while not overly restricting credit access.\n",
    "- **Model Selection:** For applications in credit risk analysis that demand high reliability and accuracy, Random Forest is preferable due to its robust performance in detecting defaults accurately. However, the Logistic Regression model might still be suitable for scenarios requiring simpler models for faster decisions or where interpretability is more critical.\n",
    "- **Future Recommendations:** For further improvements, both models could benefit from advanced feature engineering, hyperparameter tuning, and exploring ensemble techniques. Additionally, incorporating business insights into the cost of false positives versus false negatives could help in fine-tuning the decision thresholds based on the specific business context.\n",
    "\n",
    "This detailed comparative analysis should assist stakeholders in making informed decisions about which model to deploy for credit risk assessment tasks, balancing between performance metrics and operational needs.\n"
   ]
  },
  {
   "cell_type": "code",
   "execution_count": null,
   "id": "9cc5aacf",
   "metadata": {},
   "outputs": [],
   "source": []
  }
 ],
 "metadata": {
  "kernelspec": {
   "display_name": "Python 3 (ipykernel)",
   "language": "python",
   "name": "python3"
  },
  "language_info": {
   "codemirror_mode": {
    "name": "ipython",
    "version": 3
   },
   "file_extension": ".py",
   "mimetype": "text/x-python",
   "name": "python",
   "nbconvert_exporter": "python",
   "pygments_lexer": "ipython3",
   "version": "3.9.12"
  }
 },
 "nbformat": 4,
 "nbformat_minor": 5
}
